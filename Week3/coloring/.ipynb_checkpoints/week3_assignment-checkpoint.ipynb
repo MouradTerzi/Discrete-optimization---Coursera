{
 "cells": [
  {
   "cell_type": "code",
   "execution_count": 10,
   "metadata": {},
   "outputs": [],
   "source": [
    "from ortools.sat.python import cp_model"
   ]
  },
  {
   "cell_type": "code",
   "execution_count": 11,
   "metadata": {},
   "outputs": [],
   "source": [
    "\"\"\"\n",
    "   Degree of nodes and chromatic number\n",
    "\"\"\"\n",
    "import networkx as nx \n",
    "\n",
    "def is_complete(graph):\n",
    "    num_nodes = graph.number_of_nodes()\n",
    "    num_edges = graph.number_of_edges()\n",
    "    max_possible_edges = num_nodes * (num_nodes - 1) / 2  # For an undirected graph\n",
    "\n",
    "    return num_edges == max_possible_edges\n",
    "\n",
    "def get_node_degree(n,edges):\n",
    "    G = nx.Graph()\n",
    "    G.add_nodes_from([i for i in range(n)])\n",
    "    G.add_edges_from(edges)\n",
    "    G_is_complete = is_complete(G)\n",
    "    \n",
    "    max_degrees = n-1\n",
    "    if not G_is_complete:        \n",
    "        degrees = G.degree()\n",
    "        degrees = sorted(degrees,key = lambda x: x[1],reverse = True)\n",
    "        max_degrees = degrees[0][1]    \n",
    "    \n",
    "    return G_is_complete,max_degrees\n",
    "\n",
    "\"\"\"\n",
    "  Find the maximum click\n",
    "\"\"\"\n",
    "def get_max_click(n,edges):\n",
    "    G = nx.Graph()\n",
    "    G.add_nodes_from([i for i in range(n)])\n",
    "    G.add_edges_from(edges)\n",
    "    cliques = list(nx.find_cliques(G))\n",
    "    max_clique = max(cliques,key = len)\n",
    "    \n",
    "    return len(max_clique)"
   ]
  },
  {
   "cell_type": "code",
   "execution_count": 12,
   "metadata": {},
   "outputs": [],
   "source": [
    "def graph_coloring_constraint_programming(node_count,edge_count,edges,max_degrees):\n",
    "    \n",
    "    #Create the CpModel and initialize variables \n",
    "    model = cp_model.CpModel()\n",
    "    colors = [model.NewIntVar(0, node_count - 1, f\"c_{i}\") for i in range(node_count)]\n",
    "    \n",
    "    #Feasibility constraints \n",
    "    [model.Add(colors[i] != colors[j]) for (i,j) in edges]\n",
    "    \n",
    "    #Symmetry constraints \n",
    "    model.Add(colors[0] == 0)\n",
    "    for i in range(1,node_count):\n",
    "        max_ci = model.NewIntVar(0,i,\"max_c{i}\")\n",
    "        model.AddMaxEquality(max_ci,colors[:i])\n",
    "        model.Add(colors[i]<= max_ci+1)\n",
    "    \n",
    "    #Add the objective function \n",
    "    max_clique = get_max_click(node_count,edges)\n",
    "    max_colors = model.NewIntVar(max_clique-1,max_degrees,\"max_color\")\n",
    "    model.AddMaxEquality(max_colors,colors)\n",
    "    model.Minimize(max_colors)\n",
    "    \n",
    "    #Solve the model \n",
    "    solver = cp_model.CpSolver()\n",
    "    time_limit_ms = 10000\n",
    "    solver.parameters.max_time_in_seconds = time_limit_ms / 1000.0\n",
    "    status = solver.Solve(model)\n",
    "    \n",
    "    if status == cp_model.OPTIMAL:\n",
    "        # Retrieve the solution\n",
    "        solution = [solver.Value(colors[i]) for i in range(len(colors))]\n",
    "        return solution, solver.ObjectiveValue()+1,1\n",
    "        \n",
    "    elif status == cp_model.FEASIBLE:\n",
    "        # The solver found a feasible solution, but not necessarily the optimal one\n",
    "        solution = [solver.Value(colors[i]) for i in range(len(colors))]\n",
    "        return solution, solver.ObjectiveValue()+1,0\n",
    "        \n",
    "    elif status == cp_model.INFEASIBLE:\n",
    "        # The model is infeasible\n",
    "        print(\"The model is infeasible.\")\n",
    "        return [],-1,0\n",
    "        \n",
    "    else:\n",
    "        # The solver exceeded the time limit without finding a solution\n",
    "        print(\"No solution found.\")\n",
    "        return [],-1,0\n",
    "\n",
    "def graph_coloring(node_count,edge_count,edges): \n",
    "    \"\"\"\n",
    "      Graph coloring assignment - Week 3\n",
    "    \"\"\"\n",
    "    \n",
    "    #Check if the graph is complete and get the max degree \n",
    "    graph_is_complete,max_degrees = get_node_degree(node_count,edges)\n",
    "    \n",
    "    if graph_is_complete : \n",
    "        return [i for i in range(node_count)],n,1\n",
    "    \n",
    "    else:\n",
    "        solution,objective,optimal = graph_coloring_constraint_programming(node_count,\n",
    "                                                                                    edge_count,edges,max_degrees)\n",
    "        return solution,objective,optimal"
   ]
  },
  {
   "cell_type": "code",
   "execution_count": 13,
   "metadata": {},
   "outputs": [
    {
     "data": {
      "text/plain": [
       "([0, 1, 2, 2], 3.0, 1)"
      ]
     },
     "execution_count": 13,
     "metadata": {},
     "output_type": "execute_result"
    }
   ],
   "source": [
    "\"\"\"\n",
    "    Data\n",
    "\"\"\"\n",
    "node_count = 4 #Number of vertices \n",
    "edge_count = 6 #Number of edges\n",
    "edges = [(0,1),(0,2),(0,3),(1,2),(1,3)] #edges\n",
    "\n",
    "graph_coloring(node_count,edge_count,edges)"
   ]
  },
  {
   "cell_type": "code",
   "execution_count": null,
   "metadata": {},
   "outputs": [],
   "source": [
    "\"\"\"\n",
    "   Read instance of test\n",
    "\"\"\"\n",
    "path = 'data/gc_20_1'\n",
    "data = open(path,'r').read().split('')"
   ]
  }
 ],
 "metadata": {
  "kernelspec": {
   "display_name": "Python 3 (ipykernel)",
   "language": "python",
   "name": "python3"
  },
  "language_info": {
   "codemirror_mode": {
    "name": "ipython",
    "version": 3
   },
   "file_extension": ".py",
   "mimetype": "text/x-python",
   "name": "python",
   "nbconvert_exporter": "python",
   "pygments_lexer": "ipython3",
   "version": "3.8.10"
  }
 },
 "nbformat": 4,
 "nbformat_minor": 5
}
